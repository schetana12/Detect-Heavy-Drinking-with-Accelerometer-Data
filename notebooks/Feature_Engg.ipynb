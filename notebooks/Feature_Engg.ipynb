{
 "cells": [
  {
   "cell_type": "code",
   "execution_count": 53,
   "metadata": {
    "ExecuteTime": {
     "end_time": "2021-11-29T21:56:33.294869Z",
     "start_time": "2021-11-29T21:56:33.291688Z"
    }
   },
   "outputs": [],
   "source": [
    "import pandas as pd\n",
    "import numpy as np\n",
    "import os\n",
    "from scipy import stats\n",
    "import random\n",
    "\n",
    "from collections import Counter"
   ]
  },
  {
   "cell_type": "code",
   "execution_count": 2,
   "metadata": {
    "ExecuteTime": {
     "end_time": "2021-11-29T21:41:08.224851Z",
     "start_time": "2021-11-29T21:41:08.218563Z"
    }
   },
   "outputs": [
    {
     "data": {
      "text/plain": [
       "['README.txt',\n",
       " 'all_accelerometer_data_pids_13.csv',\n",
       " 'clean_tac',\n",
       " 'phone_types.csv',\n",
       " 'pids.txt',\n",
       " 'raw_tac',\n",
       " 'shubhi_all_accelerometer_data_pids_13.csv',\n",
       " 'traindata']"
      ]
     },
     "execution_count": 2,
     "metadata": {},
     "output_type": "execute_result"
    }
   ],
   "source": [
    "root_dir = \"../DataBarCrawl/\"\n",
    "list_dir =sorted(os.listdir(root_dir))\n",
    "list_dir"
   ]
  },
  {
   "cell_type": "code",
   "execution_count": 3,
   "metadata": {
    "ExecuteTime": {
     "end_time": "2021-11-29T21:41:14.314831Z",
     "start_time": "2021-11-29T21:41:08.227385Z"
    }
   },
   "outputs": [
    {
     "data": {
      "text/html": [
       "<div>\n",
       "<style scoped>\n",
       "    .dataframe tbody tr th:only-of-type {\n",
       "        vertical-align: middle;\n",
       "    }\n",
       "\n",
       "    .dataframe tbody tr th {\n",
       "        vertical-align: top;\n",
       "    }\n",
       "\n",
       "    .dataframe thead th {\n",
       "        text-align: right;\n",
       "    }\n",
       "</style>\n",
       "<table border=\"1\" class=\"dataframe\">\n",
       "  <thead>\n",
       "    <tr style=\"text-align: right;\">\n",
       "      <th></th>\n",
       "      <th>time</th>\n",
       "      <th>pid</th>\n",
       "      <th>x</th>\n",
       "      <th>y</th>\n",
       "      <th>z</th>\n",
       "    </tr>\n",
       "  </thead>\n",
       "  <tbody>\n",
       "    <tr>\n",
       "      <th>0</th>\n",
       "      <td>0</td>\n",
       "      <td>JB3156</td>\n",
       "      <td>0.0000</td>\n",
       "      <td>0.0000</td>\n",
       "      <td>0.0000</td>\n",
       "    </tr>\n",
       "    <tr>\n",
       "      <th>1</th>\n",
       "      <td>0</td>\n",
       "      <td>CC6740</td>\n",
       "      <td>0.0000</td>\n",
       "      <td>0.0000</td>\n",
       "      <td>0.0000</td>\n",
       "    </tr>\n",
       "    <tr>\n",
       "      <th>2</th>\n",
       "      <td>1493733882409</td>\n",
       "      <td>SA0297</td>\n",
       "      <td>0.0758</td>\n",
       "      <td>0.0273</td>\n",
       "      <td>-0.0102</td>\n",
       "    </tr>\n",
       "    <tr>\n",
       "      <th>3</th>\n",
       "      <td>1493733882455</td>\n",
       "      <td>SA0297</td>\n",
       "      <td>-0.0359</td>\n",
       "      <td>0.0794</td>\n",
       "      <td>0.0037</td>\n",
       "    </tr>\n",
       "    <tr>\n",
       "      <th>4</th>\n",
       "      <td>1493733882500</td>\n",
       "      <td>SA0297</td>\n",
       "      <td>-0.2427</td>\n",
       "      <td>-0.0861</td>\n",
       "      <td>-0.0163</td>\n",
       "    </tr>\n",
       "  </tbody>\n",
       "</table>\n",
       "</div>"
      ],
      "text/plain": [
       "            time     pid       x       y       z\n",
       "0              0  JB3156  0.0000  0.0000  0.0000\n",
       "1              0  CC6740  0.0000  0.0000  0.0000\n",
       "2  1493733882409  SA0297  0.0758  0.0273 -0.0102\n",
       "3  1493733882455  SA0297 -0.0359  0.0794  0.0037\n",
       "4  1493733882500  SA0297 -0.2427 -0.0861 -0.0163"
      ]
     },
     "execution_count": 3,
     "metadata": {},
     "output_type": "execute_result"
    }
   ],
   "source": [
    "os.chdir(root_dir)\n",
    "dataFile = '../DataBarCrawl/shubhi_all_accelerometer_data_pids_13.csv'\n",
    "data = pd.read_csv(dataFile)\n",
    "data.head()"
   ]
  },
  {
   "cell_type": "code",
   "execution_count": 4,
   "metadata": {
    "ExecuteTime": {
     "end_time": "2021-11-29T21:41:14.321387Z",
     "start_time": "2021-11-29T21:41:14.317331Z"
    }
   },
   "outputs": [
    {
     "data": {
      "text/plain": [
       "(14057567, 5)"
      ]
     },
     "execution_count": 4,
     "metadata": {},
     "output_type": "execute_result"
    }
   ],
   "source": [
    "data.shape"
   ]
  },
  {
   "cell_type": "code",
   "execution_count": 5,
   "metadata": {
    "ExecuteTime": {
     "end_time": "2021-11-29T21:41:14.329487Z",
     "start_time": "2021-11-29T21:41:14.323744Z"
    }
   },
   "outputs": [
    {
     "data": {
      "text/plain": [
       "dtype('int64')"
      ]
     },
     "execution_count": 5,
     "metadata": {},
     "output_type": "execute_result"
    }
   ],
   "source": [
    "data['time'].dtype"
   ]
  },
  {
   "cell_type": "markdown",
   "metadata": {},
   "source": [
    "## Clean data and drop rows where timestamp is 0 . Order the data in ascending order of user and timestamp"
   ]
  },
  {
   "cell_type": "code",
   "execution_count": 6,
   "metadata": {
    "ExecuteTime": {
     "end_time": "2021-11-29T21:41:28.844313Z",
     "start_time": "2021-11-29T21:41:17.631696Z"
    }
   },
   "outputs": [],
   "source": [
    "data = data[data['time'] != 0]\n",
    "data = data.sort_values(by=['pid','time'],ignore_index=True)"
   ]
  },
  {
   "cell_type": "code",
   "execution_count": 7,
   "metadata": {
    "ExecuteTime": {
     "end_time": "2021-11-29T21:41:28.873620Z",
     "start_time": "2021-11-29T21:41:28.846767Z"
    }
   },
   "outputs": [
    {
     "data": {
      "text/html": [
       "<div>\n",
       "<style scoped>\n",
       "    .dataframe tbody tr th:only-of-type {\n",
       "        vertical-align: middle;\n",
       "    }\n",
       "\n",
       "    .dataframe tbody tr th {\n",
       "        vertical-align: top;\n",
       "    }\n",
       "\n",
       "    .dataframe thead th {\n",
       "        text-align: right;\n",
       "    }\n",
       "</style>\n",
       "<table border=\"1\" class=\"dataframe\">\n",
       "  <thead>\n",
       "    <tr style=\"text-align: right;\">\n",
       "      <th></th>\n",
       "      <th>time</th>\n",
       "      <th>pid</th>\n",
       "      <th>x</th>\n",
       "      <th>y</th>\n",
       "      <th>z</th>\n",
       "    </tr>\n",
       "  </thead>\n",
       "  <tbody>\n",
       "    <tr>\n",
       "      <th>0</th>\n",
       "      <td>1493735870653</td>\n",
       "      <td>BK7610</td>\n",
       "      <td>0.1261</td>\n",
       "      <td>-0.0078</td>\n",
       "      <td>-0.0243</td>\n",
       "    </tr>\n",
       "    <tr>\n",
       "      <th>1</th>\n",
       "      <td>1493735870679</td>\n",
       "      <td>BK7610</td>\n",
       "      <td>0.1336</td>\n",
       "      <td>-0.0697</td>\n",
       "      <td>-0.0446</td>\n",
       "    </tr>\n",
       "    <tr>\n",
       "      <th>2</th>\n",
       "      <td>1493735870703</td>\n",
       "      <td>BK7610</td>\n",
       "      <td>0.1443</td>\n",
       "      <td>-0.0474</td>\n",
       "      <td>-0.0447</td>\n",
       "    </tr>\n",
       "    <tr>\n",
       "      <th>3</th>\n",
       "      <td>1493735870729</td>\n",
       "      <td>BK7610</td>\n",
       "      <td>0.1255</td>\n",
       "      <td>-0.0038</td>\n",
       "      <td>0.0111</td>\n",
       "    </tr>\n",
       "    <tr>\n",
       "      <th>4</th>\n",
       "      <td>1493735870753</td>\n",
       "      <td>BK7610</td>\n",
       "      <td>0.1076</td>\n",
       "      <td>0.0032</td>\n",
       "      <td>0.0276</td>\n",
       "    </tr>\n",
       "  </tbody>\n",
       "</table>\n",
       "</div>"
      ],
      "text/plain": [
       "            time     pid       x       y       z\n",
       "0  1493735870653  BK7610  0.1261 -0.0078 -0.0243\n",
       "1  1493735870679  BK7610  0.1336 -0.0697 -0.0446\n",
       "2  1493735870703  BK7610  0.1443 -0.0474 -0.0447\n",
       "3  1493735870729  BK7610  0.1255 -0.0038  0.0111\n",
       "4  1493735870753  BK7610  0.1076  0.0032  0.0276"
      ]
     },
     "execution_count": 7,
     "metadata": {},
     "output_type": "execute_result"
    }
   ],
   "source": [
    "data.head()"
   ]
  },
  {
   "cell_type": "markdown",
   "metadata": {},
   "source": [
    "## Read the TAC readings file"
   ]
  },
  {
   "cell_type": "code",
   "execution_count": null,
   "metadata": {
    "ExecuteTime": {
     "end_time": "2021-11-29T21:46:57.878541Z",
     "start_time": "2021-11-29T21:46:57.850454Z"
    }
   },
   "outputs": [],
   "source": [
    "tacLsdir = os.listdir('../DataBarCrawl/clean_tac/')\n",
    "\n",
    "tacs = {}\n",
    "for pid_csv in tacLsdir:\n",
    "    pid = pid_csv[:6]\n",
    "    tacs[pid] = pd.read_csv(f'../DataBarCrawl/clean_tac/{pid_csv}')"
   ]
  },
  {
   "cell_type": "code",
   "execution_count": 16,
   "metadata": {
    "ExecuteTime": {
     "end_time": "2021-11-29T21:47:10.831937Z",
     "start_time": "2021-11-29T21:46:59.334002Z"
    }
   },
   "outputs": [],
   "source": [
    "# tacs\n",
    "pid_acc_data={}\n",
    "pids = list(tacs.keys())\n",
    "for pid in pids:\n",
    "    pid_acc_data[pid] = data[data['pid']==pid]"
   ]
  },
  {
   "cell_type": "code",
   "execution_count": 17,
   "metadata": {
    "ExecuteTime": {
     "end_time": "2021-11-29T21:47:10.852795Z",
     "start_time": "2021-11-29T21:47:10.834496Z"
    }
   },
   "outputs": [
    {
     "data": {
      "text/html": [
       "<div>\n",
       "<style scoped>\n",
       "    .dataframe tbody tr th:only-of-type {\n",
       "        vertical-align: middle;\n",
       "    }\n",
       "\n",
       "    .dataframe tbody tr th {\n",
       "        vertical-align: top;\n",
       "    }\n",
       "\n",
       "    .dataframe thead th {\n",
       "        text-align: right;\n",
       "    }\n",
       "</style>\n",
       "<table border=\"1\" class=\"dataframe\">\n",
       "  <thead>\n",
       "    <tr style=\"text-align: right;\">\n",
       "      <th></th>\n",
       "      <th>time</th>\n",
       "      <th>pid</th>\n",
       "      <th>x</th>\n",
       "      <th>y</th>\n",
       "      <th>z</th>\n",
       "    </tr>\n",
       "  </thead>\n",
       "  <tbody>\n",
       "    <tr>\n",
       "      <th>0</th>\n",
       "      <td>1493735870653</td>\n",
       "      <td>BK7610</td>\n",
       "      <td>0.1261</td>\n",
       "      <td>-0.0078</td>\n",
       "      <td>-0.0243</td>\n",
       "    </tr>\n",
       "    <tr>\n",
       "      <th>1</th>\n",
       "      <td>1493735870679</td>\n",
       "      <td>BK7610</td>\n",
       "      <td>0.1336</td>\n",
       "      <td>-0.0697</td>\n",
       "      <td>-0.0446</td>\n",
       "    </tr>\n",
       "    <tr>\n",
       "      <th>2</th>\n",
       "      <td>1493735870703</td>\n",
       "      <td>BK7610</td>\n",
       "      <td>0.1443</td>\n",
       "      <td>-0.0474</td>\n",
       "      <td>-0.0447</td>\n",
       "    </tr>\n",
       "    <tr>\n",
       "      <th>3</th>\n",
       "      <td>1493735870729</td>\n",
       "      <td>BK7610</td>\n",
       "      <td>0.1255</td>\n",
       "      <td>-0.0038</td>\n",
       "      <td>0.0111</td>\n",
       "    </tr>\n",
       "    <tr>\n",
       "      <th>4</th>\n",
       "      <td>1493735870753</td>\n",
       "      <td>BK7610</td>\n",
       "      <td>0.1076</td>\n",
       "      <td>0.0032</td>\n",
       "      <td>0.0276</td>\n",
       "    </tr>\n",
       "    <tr>\n",
       "      <th>...</th>\n",
       "      <td>...</td>\n",
       "      <td>...</td>\n",
       "      <td>...</td>\n",
       "      <td>...</td>\n",
       "      <td>...</td>\n",
       "    </tr>\n",
       "    <tr>\n",
       "      <th>1225722</th>\n",
       "      <td>1493767770540</td>\n",
       "      <td>BK7610</td>\n",
       "      <td>-0.0784</td>\n",
       "      <td>-0.0161</td>\n",
       "      <td>0.1719</td>\n",
       "    </tr>\n",
       "    <tr>\n",
       "      <th>1225723</th>\n",
       "      <td>1493767770564</td>\n",
       "      <td>BK7610</td>\n",
       "      <td>-0.0395</td>\n",
       "      <td>-0.0816</td>\n",
       "      <td>0.1634</td>\n",
       "    </tr>\n",
       "    <tr>\n",
       "      <th>1225724</th>\n",
       "      <td>1493767770590</td>\n",
       "      <td>BK7610</td>\n",
       "      <td>0.0160</td>\n",
       "      <td>-0.0853</td>\n",
       "      <td>0.0906</td>\n",
       "    </tr>\n",
       "    <tr>\n",
       "      <th>1225725</th>\n",
       "      <td>1493767770614</td>\n",
       "      <td>BK7610</td>\n",
       "      <td>0.0901</td>\n",
       "      <td>-0.0767</td>\n",
       "      <td>0.0162</td>\n",
       "    </tr>\n",
       "    <tr>\n",
       "      <th>1225726</th>\n",
       "      <td>1493767770640</td>\n",
       "      <td>BK7610</td>\n",
       "      <td>0.1700</td>\n",
       "      <td>-0.1390</td>\n",
       "      <td>-0.0773</td>\n",
       "    </tr>\n",
       "  </tbody>\n",
       "</table>\n",
       "<p>1225727 rows × 5 columns</p>\n",
       "</div>"
      ],
      "text/plain": [
       "                  time     pid       x       y       z\n",
       "0        1493735870653  BK7610  0.1261 -0.0078 -0.0243\n",
       "1        1493735870679  BK7610  0.1336 -0.0697 -0.0446\n",
       "2        1493735870703  BK7610  0.1443 -0.0474 -0.0447\n",
       "3        1493735870729  BK7610  0.1255 -0.0038  0.0111\n",
       "4        1493735870753  BK7610  0.1076  0.0032  0.0276\n",
       "...                ...     ...     ...     ...     ...\n",
       "1225722  1493767770540  BK7610 -0.0784 -0.0161  0.1719\n",
       "1225723  1493767770564  BK7610 -0.0395 -0.0816  0.1634\n",
       "1225724  1493767770590  BK7610  0.0160 -0.0853  0.0906\n",
       "1225725  1493767770614  BK7610  0.0901 -0.0767  0.0162\n",
       "1225726  1493767770640  BK7610  0.1700 -0.1390 -0.0773\n",
       "\n",
       "[1225727 rows x 5 columns]"
      ]
     },
     "execution_count": 17,
     "metadata": {},
     "output_type": "execute_result"
    }
   ],
   "source": [
    "pid_acc_data['BK7610']"
   ]
  },
  {
   "cell_type": "code",
   "execution_count": 18,
   "metadata": {
    "ExecuteTime": {
     "end_time": "2021-11-29T21:47:28.836890Z",
     "start_time": "2021-11-29T21:47:15.666355Z"
    }
   },
   "outputs": [
    {
     "name": "stderr",
     "output_type": "stream",
     "text": [
      "/usr/local/lib/python3.7/site-packages/ipykernel_launcher.py:8: SettingWithCopyWarning: \n",
      "A value is trying to be set on a copy of a slice from a DataFrame.\n",
      "Try using .loc[row_indexer,col_indexer] = value instead\n",
      "\n",
      "See the caveats in the documentation: https://pandas.pydata.org/pandas-docs/stable/user_guide/indexing.html#returning-a-view-versus-a-copy\n",
      "  \n"
     ]
    }
   ],
   "source": [
    "all_data = []\n",
    "for pid in pids:\n",
    "    df1 = tacs[pid]\n",
    "#     Shift TAC reading by 45 minutes before merging with accelerometer data\n",
    "    # df1['shift_timestamp'] = df1['timestamp'] - (45*60)\n",
    "    df2 = data[data['pid']==pid]\n",
    "#     Change timestamp in accelerometer data from milisec to sec\n",
    "    df2['timestamp'] = df2['time']//1000 \n",
    "#     Merge the TAC reading and accelerometer data on timestamp\n",
    "    tmp = df1.merge(df2, on= 'timestamp')\n",
    "    tmp['label'] = np.where(tmp['TAC_Reading']<0.08, 0, 1)\n",
    "\n",
    "    all_data.append(tmp)\n",
    "large_df = pd.concat(all_data)"
   ]
  },
  {
   "cell_type": "code",
   "execution_count": 19,
   "metadata": {
    "ExecuteTime": {
     "end_time": "2021-11-29T21:47:28.856385Z",
     "start_time": "2021-11-29T21:47:28.839529Z"
    }
   },
   "outputs": [
    {
     "data": {
      "text/html": [
       "<div>\n",
       "<style scoped>\n",
       "    .dataframe tbody tr th:only-of-type {\n",
       "        vertical-align: middle;\n",
       "    }\n",
       "\n",
       "    .dataframe tbody tr th {\n",
       "        vertical-align: top;\n",
       "    }\n",
       "\n",
       "    .dataframe thead th {\n",
       "        text-align: right;\n",
       "    }\n",
       "</style>\n",
       "<table border=\"1\" class=\"dataframe\">\n",
       "  <thead>\n",
       "    <tr style=\"text-align: right;\">\n",
       "      <th></th>\n",
       "      <th>timestamp</th>\n",
       "      <th>TAC_Reading</th>\n",
       "      <th>time</th>\n",
       "      <th>pid</th>\n",
       "      <th>x</th>\n",
       "      <th>y</th>\n",
       "      <th>z</th>\n",
       "      <th>label</th>\n",
       "    </tr>\n",
       "  </thead>\n",
       "  <tbody>\n",
       "    <tr>\n",
       "      <th>0</th>\n",
       "      <td>1493745545</td>\n",
       "      <td>0.003018</td>\n",
       "      <td>1493745545015</td>\n",
       "      <td>DK3500</td>\n",
       "      <td>-0.0149</td>\n",
       "      <td>-0.0921</td>\n",
       "      <td>0.0366</td>\n",
       "      <td>0</td>\n",
       "    </tr>\n",
       "    <tr>\n",
       "      <th>1</th>\n",
       "      <td>1493745545</td>\n",
       "      <td>0.003018</td>\n",
       "      <td>1493745545040</td>\n",
       "      <td>DK3500</td>\n",
       "      <td>-0.0190</td>\n",
       "      <td>-0.1011</td>\n",
       "      <td>0.0154</td>\n",
       "      <td>0</td>\n",
       "    </tr>\n",
       "    <tr>\n",
       "      <th>2</th>\n",
       "      <td>1493745545</td>\n",
       "      <td>0.003018</td>\n",
       "      <td>1493745545065</td>\n",
       "      <td>DK3500</td>\n",
       "      <td>-0.0334</td>\n",
       "      <td>-0.1208</td>\n",
       "      <td>-0.0144</td>\n",
       "      <td>0</td>\n",
       "    </tr>\n",
       "    <tr>\n",
       "      <th>3</th>\n",
       "      <td>1493745545</td>\n",
       "      <td>0.003018</td>\n",
       "      <td>1493745545089</td>\n",
       "      <td>DK3500</td>\n",
       "      <td>-0.0366</td>\n",
       "      <td>-0.1014</td>\n",
       "      <td>-0.0378</td>\n",
       "      <td>0</td>\n",
       "    </tr>\n",
       "    <tr>\n",
       "      <th>4</th>\n",
       "      <td>1493745545</td>\n",
       "      <td>0.003018</td>\n",
       "      <td>1493745545116</td>\n",
       "      <td>DK3500</td>\n",
       "      <td>-0.0126</td>\n",
       "      <td>-0.0571</td>\n",
       "      <td>-0.0461</td>\n",
       "      <td>0</td>\n",
       "    </tr>\n",
       "  </tbody>\n",
       "</table>\n",
       "</div>"
      ],
      "text/plain": [
       "    timestamp  TAC_Reading           time     pid       x       y       z  \\\n",
       "0  1493745545     0.003018  1493745545015  DK3500 -0.0149 -0.0921  0.0366   \n",
       "1  1493745545     0.003018  1493745545040  DK3500 -0.0190 -0.1011  0.0154   \n",
       "2  1493745545     0.003018  1493745545065  DK3500 -0.0334 -0.1208 -0.0144   \n",
       "3  1493745545     0.003018  1493745545089  DK3500 -0.0366 -0.1014 -0.0378   \n",
       "4  1493745545     0.003018  1493745545116  DK3500 -0.0126 -0.0571 -0.0461   \n",
       "\n",
       "   label  \n",
       "0      0  \n",
       "1      0  \n",
       "2      0  \n",
       "3      0  \n",
       "4      0  "
      ]
     },
     "execution_count": 19,
     "metadata": {},
     "output_type": "execute_result"
    }
   ],
   "source": [
    "large_df.head()"
   ]
  },
  {
   "cell_type": "markdown",
   "metadata": {},
   "source": [
    "### Spliting Training & Test according to participants"
   ]
  },
  {
   "cell_type": "code",
   "execution_count": 29,
   "metadata": {
    "ExecuteTime": {
     "end_time": "2021-11-29T21:49:06.632084Z",
     "start_time": "2021-11-29T21:49:06.628910Z"
    }
   },
   "outputs": [
    {
     "name": "stdout",
     "output_type": "stream",
     "text": [
      "13\n"
     ]
    }
   ],
   "source": [
    "participants = list(pids)\n",
    "print(len(participants))"
   ]
  },
  {
   "cell_type": "code",
   "execution_count": 24,
   "metadata": {
    "ExecuteTime": {
     "end_time": "2021-11-29T21:48:39.473201Z",
     "start_time": "2021-11-29T21:48:39.469598Z"
    }
   },
   "outputs": [],
   "source": [
    "random.seed(100)\n",
    "def Diff(li1, li2):\n",
    "  return list(set(li1) - set(li2)) + list(set(li2) - set(li1))"
   ]
  },
  {
   "cell_type": "code",
   "execution_count": 31,
   "metadata": {
    "ExecuteTime": {
     "end_time": "2021-11-29T21:50:13.733801Z",
     "start_time": "2021-11-29T21:50:13.730438Z"
    }
   },
   "outputs": [],
   "source": [
    "p_tr_index = random.sample(range(0, 13), 9)  # 70%13 = 9.1~9\n",
    "p_te_index = Diff(list(range(0, 13)),p_tr_index)  #30%13 = 3.9~4"
   ]
  },
  {
   "cell_type": "code",
   "execution_count": 34,
   "metadata": {
    "ExecuteTime": {
     "end_time": "2021-11-29T21:50:28.062365Z",
     "start_time": "2021-11-29T21:50:28.058787Z"
    }
   },
   "outputs": [],
   "source": [
    "p_te=[]\n",
    "p_tr = []\n",
    "for index in p_tr_index:\n",
    "    p_tr.append(participants[index])\n",
    "for index in p_te_index:\n",
    "    p_te.append(participants[index])"
   ]
  },
  {
   "cell_type": "code",
   "execution_count": 35,
   "metadata": {
    "ExecuteTime": {
     "end_time": "2021-11-29T21:50:28.588849Z",
     "start_time": "2021-11-29T21:50:28.585889Z"
    }
   },
   "outputs": [
    {
     "name": "stdout",
     "output_type": "stream",
     "text": [
      "training pids: ['PC6771', 'JR8022', 'BK7610', 'CC6740', 'HV0618', 'DK3500', 'SF3079', 'MJ8002', 'DC6359']\n",
      " testing pids: ['MC7070', 'SA0297', 'BU4707', 'JB3156']\n"
     ]
    }
   ],
   "source": [
    "print(f\"training pids: {p_tr}\\n testing pids: {p_te}\")"
   ]
  },
  {
   "cell_type": "code",
   "execution_count": 36,
   "metadata": {
    "ExecuteTime": {
     "end_time": "2021-11-29T21:50:48.663748Z",
     "start_time": "2021-11-29T21:50:48.617089Z"
    }
   },
   "outputs": [],
   "source": [
    "df_train = pd.DataFrame()\n",
    "for pid in p_tr:\n",
    "    tmp = large_df[large_df[\"pid\"]==pid]\n",
    "    df_train = df_train.append(tmp)"
   ]
  },
  {
   "cell_type": "code",
   "execution_count": 69,
   "metadata": {
    "ExecuteTime": {
     "end_time": "2021-11-29T22:24:18.262091Z",
     "start_time": "2021-11-29T22:24:18.258357Z"
    }
   },
   "outputs": [
    {
     "data": {
      "text/plain": [
       "(4603, 8)"
      ]
     },
     "execution_count": 69,
     "metadata": {},
     "output_type": "execute_result"
    }
   ],
   "source": [
    "df_train.shape"
   ]
  },
  {
   "cell_type": "code",
   "execution_count": 39,
   "metadata": {
    "ExecuteTime": {
     "end_time": "2021-11-29T21:51:21.775585Z",
     "start_time": "2021-11-29T21:51:21.758570Z"
    }
   },
   "outputs": [],
   "source": [
    "df_test = pd.DataFrame()\n",
    "for pid in p_te:\n",
    "    tmp = large_df[large_df[\"pid\"]==pid]\n",
    "    df_test = df_test.append(tmp)"
   ]
  },
  {
   "cell_type": "code",
   "execution_count": 40,
   "metadata": {
    "ExecuteTime": {
     "end_time": "2021-11-29T21:51:24.715280Z",
     "start_time": "2021-11-29T21:51:24.711465Z"
    }
   },
   "outputs": [
    {
     "data": {
      "text/plain": [
       "(1544, 8)"
      ]
     },
     "execution_count": 40,
     "metadata": {},
     "output_type": "execute_result"
    }
   ],
   "source": [
    "df_test.shape"
   ]
  },
  {
   "cell_type": "markdown",
   "metadata": {},
   "source": [
    "# Feature Engineering"
   ]
  },
  {
   "cell_type": "code",
   "execution_count": 62,
   "metadata": {
    "ExecuteTime": {
     "end_time": "2021-11-29T22:21:15.576727Z",
     "start_time": "2021-11-29T22:21:15.498472Z"
    }
   },
   "outputs": [],
   "source": [
    "def create_stats_fourier_transform_data(df_train, window_size, step_size=25):\n",
    "    \n",
    "    x_list, y_list, z_list, train_labels = [], [], [], []\n",
    "    for i in range(0, df_train.shape[0] - window_size, step_size):\n",
    "        xs = df_train['x'].values[i: i + window_size]\n",
    "        ys = df_train['y'].values[i: i + window_size]\n",
    "        zs = df_train['z'].values[i: i + window_size]\n",
    "        label = np.max(df_train['label'][i: i + window_size])\n",
    "\n",
    "        x_list.append(xs)\n",
    "        y_list.append(ys)\n",
    "        z_list.append(zs)\n",
    "        train_labels.append(label)\n",
    "    \n",
    "    # Statistical Features on raw x, y and z in time domain\n",
    "    X_train = pd.DataFrame()\n",
    "\n",
    "    # mean\n",
    "    X_train['x_mean'] = pd.Series(x_list).apply(lambda x: x.mean())\n",
    "    X_train['y_mean'] = pd.Series(y_list).apply(lambda x: x.mean())\n",
    "    X_train['z_mean'] = pd.Series(z_list).apply(lambda x: x.mean())\n",
    "\n",
    "    # std dev\n",
    "    X_train['x_std'] = pd.Series(x_list).apply(lambda x: x.std())\n",
    "    X_train['y_std'] = pd.Series(y_list).apply(lambda x: x.std())\n",
    "    X_train['z_std'] = pd.Series(z_list).apply(lambda x: x.std())\n",
    "\n",
    "    # avg absolute diff\n",
    "    X_train['x_aad'] = pd.Series(x_list).apply(lambda x: np.mean(np.absolute(x - np.mean(x))))\n",
    "    X_train['y_aad'] = pd.Series(y_list).apply(lambda x: np.mean(np.absolute(x - np.mean(x))))\n",
    "    X_train['z_aad'] = pd.Series(z_list).apply(lambda x: np.mean(np.absolute(x - np.mean(x))))\n",
    "\n",
    "    # min\n",
    "    X_train['x_min'] = pd.Series(x_list).apply(lambda x: x.min())\n",
    "    X_train['y_min'] = pd.Series(y_list).apply(lambda x: x.min())\n",
    "    X_train['z_min'] = pd.Series(z_list).apply(lambda x: x.min())\n",
    "\n",
    "    # max\n",
    "    X_train['x_max'] = pd.Series(x_list).apply(lambda x: x.max())\n",
    "    X_train['y_max'] = pd.Series(y_list).apply(lambda x: x.max())\n",
    "    X_train['z_max'] = pd.Series(z_list).apply(lambda x: x.max())\n",
    "\n",
    "    # max-min diff\n",
    "    X_train['x_maxmin_diff'] = X_train['x_max'] - X_train['x_min']\n",
    "    X_train['y_maxmin_diff'] = X_train['y_max'] - X_train['y_min']\n",
    "    X_train['z_maxmin_diff'] = X_train['z_max'] - X_train['z_min']\n",
    "\n",
    "    # median\n",
    "    X_train['x_median'] = pd.Series(x_list).apply(lambda x: np.median(x))\n",
    "    X_train['y_median'] = pd.Series(y_list).apply(lambda x: np.median(x))\n",
    "    X_train['z_median'] = pd.Series(z_list).apply(lambda x: np.median(x))\n",
    "\n",
    "    # median abs dev \n",
    "    X_train['x_mad'] = pd.Series(x_list).apply(lambda x: np.median(np.absolute(x - np.median(x))))\n",
    "    X_train['y_mad'] = pd.Series(y_list).apply(lambda x: np.median(np.absolute(x - np.median(x))))\n",
    "    X_train['z_mad'] = pd.Series(z_list).apply(lambda x: np.median(np.absolute(x - np.median(x))))\n",
    "\n",
    "    # interquartile range\n",
    "    X_train['x_IQR'] = pd.Series(x_list).apply(lambda x: np.percentile(x, 75) - np.percentile(x, 25))\n",
    "    X_train['y_IQR'] = pd.Series(y_list).apply(lambda x: np.percentile(x, 75) - np.percentile(x, 25))\n",
    "    X_train['z_IQR'] = pd.Series(z_list).apply(lambda x: np.percentile(x, 75) - np.percentile(x, 25))\n",
    "\n",
    "    # negtive count\n",
    "    X_train['x_neg_count'] = pd.Series(x_list).apply(lambda x: np.sum(x < 0))\n",
    "    X_train['y_neg_count'] = pd.Series(y_list).apply(lambda x: np.sum(x < 0))\n",
    "    X_train['z_neg_count'] = pd.Series(z_list).apply(lambda x: np.sum(x < 0))\n",
    "\n",
    "    # positive count\n",
    "    X_train['x_pos_count'] = pd.Series(x_list).apply(lambda x: np.sum(x > 0))\n",
    "    X_train['y_pos_count'] = pd.Series(y_list).apply(lambda x: np.sum(x > 0))\n",
    "    X_train['z_pos_count'] = pd.Series(z_list).apply(lambda x: np.sum(x > 0))\n",
    "\n",
    "    # values above mean\n",
    "    X_train['x_above_mean'] = pd.Series(x_list).apply(lambda x: np.sum(x > x.mean()))\n",
    "    X_train['y_above_mean'] = pd.Series(y_list).apply(lambda x: np.sum(x > x.mean()))\n",
    "    X_train['z_above_mean'] = pd.Series(z_list).apply(lambda x: np.sum(x > x.mean()))\n",
    "\n",
    "    # number of peaks\n",
    "    X_train['x_peak_count'] = pd.Series(x_list).apply(lambda x: len(find_peaks(x)[0]))\n",
    "    X_train['y_peak_count'] = pd.Series(y_list).apply(lambda x: len(find_peaks(x)[0]))\n",
    "    X_train['z_peak_count'] = pd.Series(z_list).apply(lambda x: len(find_peaks(x)[0]))\n",
    "\n",
    "    # skewness\n",
    "    X_train['x_skewness'] = pd.Series(x_list).apply(lambda x: stats.skew(x))\n",
    "    X_train['y_skewness'] = pd.Series(y_list).apply(lambda x: stats.skew(x))\n",
    "    X_train['z_skewness'] = pd.Series(z_list).apply(lambda x: stats.skew(x))\n",
    "\n",
    "    # kurtosis\n",
    "    X_train['x_kurtosis'] = pd.Series(x_list).apply(lambda x: stats.kurtosis(x))\n",
    "    X_train['y_kurtosis'] = pd.Series(y_list).apply(lambda x: stats.kurtosis(x))\n",
    "    X_train['z_kurtosis'] = pd.Series(z_list).apply(lambda x: stats.kurtosis(x))\n",
    "\n",
    "    # energy\n",
    "    X_train['x_energy'] = pd.Series(x_list).apply(lambda x: np.sum(x**2)/window_size)\n",
    "    X_train['y_energy'] = pd.Series(y_list).apply(lambda x: np.sum(x**2)/window_size)\n",
    "    X_train['z_energy'] = pd.Series(z_list).apply(lambda x: np.sum(x**2/window_size))\n",
    "\n",
    "    # avg resultant\n",
    "    X_train['avg_result_accl'] = [i.mean() for i in ((pd.Series(x_list)**2 + pd.Series(y_list)**2 + pd.Series(z_list)**2)**0.5)]\n",
    "\n",
    "    # signal magnitude area\n",
    "    X_train['sma'] =    pd.Series(x_list).apply(lambda x: np.sum(abs(x)/window_size)) + pd.Series(y_list).apply(lambda x: np.sum(abs(x)/window_size)) \\\n",
    "                  + pd.Series(z_list).apply(lambda x: np.sum(abs(x)/window_size))\n",
    "    \n",
    "    # converting the signals from time domain to frequency domain using FFT\n",
    "    x_list_fft = pd.Series(x_list).apply(lambda x: np.abs(np.fft.fft(x))[1:26])\n",
    "    y_list_fft = pd.Series(y_list).apply(lambda x: np.abs(np.fft.fft(x))[1:26])\n",
    "    z_list_fft = pd.Series(z_list).apply(lambda x: np.abs(np.fft.fft(x))[1:26])\n",
    "\n",
    "    # Statistical Features on raw x, y and z in frequency domain\n",
    "    # FFT mean\n",
    "    X_train['x_mean_fft'] = pd.Series(x_list_fft).apply(lambda x: x.mean())\n",
    "    X_train['y_mean_fft'] = pd.Series(y_list_fft).apply(lambda x: x.mean())\n",
    "    X_train['z_mean_fft'] = pd.Series(z_list_fft).apply(lambda x: x.mean())\n",
    "\n",
    "    # FFT std dev\n",
    "    X_train['x_std_fft'] = pd.Series(x_list_fft).apply(lambda x: x.std())\n",
    "    X_train['y_std_fft'] = pd.Series(y_list_fft).apply(lambda x: x.std())\n",
    "    X_train['z_std_fft'] = pd.Series(z_list_fft).apply(lambda x: x.std())\n",
    "\n",
    "    # FFT avg absolute diff\n",
    "    X_train['x_aad_fft'] = pd.Series(x_list_fft).apply(lambda x: np.mean(np.absolute(x - np.mean(x))))\n",
    "    X_train['y_aad_fft'] = pd.Series(y_list_fft).apply(lambda x: np.mean(np.absolute(x - np.mean(x))))\n",
    "    X_train['z_aad_fft'] = pd.Series(z_list_fft).apply(lambda x: np.mean(np.absolute(x - np.mean(x))))\n",
    "\n",
    "    # FFT min\n",
    "    X_train['x_min_fft'] = pd.Series(x_list_fft).apply(lambda x: x.min())\n",
    "    X_train['y_min_fft'] = pd.Series(y_list_fft).apply(lambda x: x.min())\n",
    "    X_train['z_min_fft'] = pd.Series(z_list_fft).apply(lambda x: x.min())\n",
    "\n",
    "    # FFT max\n",
    "    X_train['x_max_fft'] = pd.Series(x_list_fft).apply(lambda x: x.max())\n",
    "    X_train['y_max_fft'] = pd.Series(y_list_fft).apply(lambda x: x.max())\n",
    "    X_train['z_max_fft'] = pd.Series(z_list_fft).apply(lambda x: x.max())\n",
    "\n",
    "    # FFT max-min diff\n",
    "    X_train['x_maxmin_diff_fft'] = X_train['x_max_fft'] - X_train['x_min_fft']\n",
    "    X_train['y_maxmin_diff_fft'] = X_train['y_max_fft'] - X_train['y_min_fft']\n",
    "    X_train['z_maxmin_diff_fft'] = X_train['z_max_fft'] - X_train['z_min_fft']\n",
    "\n",
    "    # FFT median\n",
    "    X_train['x_median_fft'] = pd.Series(x_list_fft).apply(lambda x: np.median(x))\n",
    "    X_train['y_median_fft'] = pd.Series(y_list_fft).apply(lambda x: np.median(x))\n",
    "    X_train['z_median_fft'] = pd.Series(z_list_fft).apply(lambda x: np.median(x))\n",
    "\n",
    "    # FFT median abs dev \n",
    "    X_train['x_mad_fft'] = pd.Series(x_list_fft).apply(lambda x: np.median(np.absolute(x - np.median(x))))\n",
    "    X_train['y_mad_fft'] = pd.Series(y_list_fft).apply(lambda x: np.median(np.absolute(x - np.median(x))))\n",
    "    X_train['z_mad_fft'] = pd.Series(z_list_fft).apply(lambda x: np.median(np.absolute(x - np.median(x))))\n",
    "\n",
    "    # FFT Interquartile range\n",
    "    X_train['x_IQR_fft'] = pd.Series(x_list_fft).apply(lambda x: np.percentile(x, 75) - np.percentile(x, 25))\n",
    "    X_train['y_IQR_fft'] = pd.Series(y_list_fft).apply(lambda x: np.percentile(x, 75) - np.percentile(x, 25))\n",
    "    X_train['z_IQR_fft'] = pd.Series(z_list_fft).apply(lambda x: np.percentile(x, 75) - np.percentile(x, 25))\n",
    "\n",
    "    # FFT values above mean\n",
    "    X_train['x_above_mean_fft'] = pd.Series(x_list_fft).apply(lambda x: np.sum(x > x.mean()))\n",
    "    X_train['y_above_mean_fft'] = pd.Series(y_list_fft).apply(lambda x: np.sum(x > x.mean()))\n",
    "    X_train['z_above_mean_fft'] = pd.Series(z_list_fft).apply(lambda x: np.sum(x > x.mean()))\n",
    "\n",
    "    # FFT number of peaks\n",
    "    X_train['x_peak_count_fft'] = pd.Series(x_list_fft).apply(lambda x: len(find_peaks(x)[0]))\n",
    "    X_train['y_peak_count_fft'] = pd.Series(y_list_fft).apply(lambda x: len(find_peaks(x)[0]))\n",
    "    X_train['z_peak_count_fft'] = pd.Series(z_list_fft).apply(lambda x: len(find_peaks(x)[0]))\n",
    "\n",
    "    # FFT skewness\n",
    "    X_train['x_skewness_fft'] = pd.Series(x_list_fft).apply(lambda x: stats.skew(x))\n",
    "    X_train['y_skewness_fft'] = pd.Series(y_list_fft).apply(lambda x: stats.skew(x))\n",
    "    X_train['z_skewness_fft'] = pd.Series(z_list_fft).apply(lambda x: stats.skew(x))\n",
    "\n",
    "    # FFT kurtosis\n",
    "    X_train['x_kurtosis_fft'] = pd.Series(x_list_fft).apply(lambda x: stats.kurtosis(x))\n",
    "    X_train['y_kurtosis_fft'] = pd.Series(y_list_fft).apply(lambda x: stats.kurtosis(x))\n",
    "    X_train['z_kurtosis_fft'] = pd.Series(z_list_fft).apply(lambda x: stats.kurtosis(x))\n",
    "\n",
    "    # FFT energy\n",
    "    X_train['x_energy_fft'] = pd.Series(x_list_fft).apply(lambda x: np.sum(x**2)/step_size)\n",
    "    X_train['y_energy_fft'] = pd.Series(y_list_fft).apply(lambda x: np.sum(x**2)/step_size)\n",
    "    X_train['z_energy_fft'] = pd.Series(z_list_fft).apply(lambda x: np.sum(x**2/step_size))\n",
    "\n",
    "    # FFT avg resultant\n",
    "    X_train['avg_result_accl_fft'] = [i.mean() for i in ((pd.Series(x_list_fft)**2 + pd.Series(y_list_fft)**2 + pd.Series(z_list_fft)**2)**0.5)]\n",
    "\n",
    "    # FFT Signal magnitude area\n",
    "    X_train['sma_fft'] = pd.Series(x_list_fft).apply(lambda x: np.sum(abs(x)/step_size)) + pd.Series(y_list_fft).apply(lambda x: np.sum(abs(x)/step_size)) \\\n",
    "                         + pd.Series(z_list_fft).apply(lambda x: np.sum(abs(x)/step_size))\n",
    "    \n",
    "    return X_train, train_labels\n",
    "    \n",
    "    "
   ]
  },
  {
   "cell_type": "markdown",
   "metadata": {
    "ExecuteTime": {
     "end_time": "2021-11-29T21:57:49.995672Z",
     "start_time": "2021-11-29T21:57:49.992029Z"
    }
   },
   "source": [
    "# Window size = 2 seconds \n",
    "2 seconds = 40*2 samples = 80 samples\n",
    "<br>\n",
    "step_size = 25 (Since the data is taken at 25 miliseconds)"
   ]
  },
  {
   "cell_type": "code",
   "execution_count": 92,
   "metadata": {
    "ExecuteTime": {
     "end_time": "2021-11-29T23:02:31.886480Z",
     "start_time": "2021-11-29T23:02:30.427196Z"
    }
   },
   "outputs": [
    {
     "name": "stdout",
     "output_type": "stream",
     "text": [
      "Shape of train data : (181, 94)\n",
      "Distribution of labels : Counter({0: 98, 1: 83})\n",
      "Shape of test data : (59, 94)\n",
      "Distribution of labels : Counter({0: 32, 1: 27})\n"
     ]
    }
   ],
   "source": [
    "window_size = 2*40\n",
    "step_size = 25\n",
    "\n",
    "X_2_train, train_labels_2 = create_stats_fourier_transform_data(df_train ,window_size)\n",
    "print(f'Shape of train data : {X_2_train.shape}\\nDistribution of labels : {Counter(train_labels_2)}')\n",
    "\n",
    "X_2_test, test_labels_2 = create_stats_fourier_transform_data(df_test ,window_size)\n",
    "print(f'Shape of test data : {X_2_test.shape}\\nDistribution of labels : {Counter(test_labels_2)}')"
   ]
  },
  {
   "cell_type": "markdown",
   "metadata": {
    "ExecuteTime": {
     "end_time": "2021-11-29T21:57:49.995672Z",
     "start_time": "2021-11-29T21:57:49.992029Z"
    }
   },
   "source": [
    "# Window size = 5 seconds \n",
    "5 seconds = 40*5 samples = 200 samples\n",
    "<br>\n",
    "step_size = 25 (Since the data is taken at 25 miliseconds)"
   ]
  },
  {
   "cell_type": "code",
   "execution_count": 90,
   "metadata": {
    "ExecuteTime": {
     "end_time": "2021-11-29T23:01:51.958003Z",
     "start_time": "2021-11-29T23:01:50.340939Z"
    }
   },
   "outputs": [
    {
     "name": "stdout",
     "output_type": "stream",
     "text": [
      "Shape of train data : (177, 94)\n",
      "Distribution of labels : Counter({1: 107, 0: 70})\n",
      "Shape of test data : (54, 94)\n",
      "Length of labels : Counter({1: 37, 0: 17})\n"
     ]
    }
   ],
   "source": [
    "window_size = 5*40\n",
    "step_size = 25\n",
    "\n",
    "X_5_train, train_labels_5 = create_stats_fourier_transform_data(df_train ,window_size)\n",
    "print(f'Shape of train data : {X_5_train.shape}\\nDistribution of labels : {Counter(train_labels_5)}')\n",
    "\n",
    "X_5_test, test_labels_5 = create_stats_fourier_transform_data(df_test ,window_size)\n",
    "print(f'Shape of test data : {X_5_test.shape}\\nDistribution of labels : {Counter(test_labels_5)}')"
   ]
  },
  {
   "cell_type": "markdown",
   "metadata": {},
   "source": [
    "# Window size = 10 seconds\n",
    "5 seconds = 40*5 samples = 200 samples\n",
    "<br>\n",
    "step_size = 25 (Since the data is taken at 25 miliseconds)"
   ]
  },
  {
   "cell_type": "code",
   "execution_count": 93,
   "metadata": {
    "ExecuteTime": {
     "end_time": "2021-11-29T23:02:57.372993Z",
     "start_time": "2021-11-29T23:02:55.986421Z"
    }
   },
   "outputs": [
    {
     "name": "stdout",
     "output_type": "stream",
     "text": [
      "Shape of train data : (169, 94)\n",
      "Distribution of labels : Counter({1: 126, 0: 43})\n",
      "Shape of test data : (46, 94)\n",
      "Distribution of labels : Counter({1: 46})\n"
     ]
    }
   ],
   "source": [
    "window_size = 10*40\n",
    "step_size = 25\n",
    "\n",
    "X_10_train, train_labels_10 = create_stats_fourier_transform_data(df_train ,window_size)\n",
    "print(f'Shape of train data : {X_10_train.shape}\\nDistribution of labels : {Counter(train_labels_10)}')\n",
    "\n",
    "X_10_test, test_labels_10 = create_stats_fourier_transform_data(df_test ,window_size)\n",
    "print(f'Shape of test data : {X_10_test.shape}\\nDistribution of labels : {Counter(test_labels_10)}')"
   ]
  },
  {
   "cell_type": "markdown",
   "metadata": {},
   "source": [
    "# Saving the window size files to csv\n"
   ]
  },
  {
   "cell_type": "code",
   "execution_count": 86,
   "metadata": {
    "ExecuteTime": {
     "end_time": "2021-11-29T23:00:13.789341Z",
     "start_time": "2021-11-29T23:00:13.704813Z"
    }
   },
   "outputs": [],
   "source": [
    "X_2_train.to_csv(f'../DataBarCrawl/fft_data/X_2_train.csv',index=False)\n",
    "X_5_train.to_csv(f'../DataBarCrawl/fft_data/X_5_train.csv',index=False)\n",
    "X_10_train.to_csv(f'../DataBarCrawl/fft_data/X_10_train.csv',index=False)\n"
   ]
  },
  {
   "cell_type": "code",
   "execution_count": 87,
   "metadata": {
    "ExecuteTime": {
     "end_time": "2021-11-29T23:00:14.089803Z",
     "start_time": "2021-11-29T23:00:14.081854Z"
    }
   },
   "outputs": [],
   "source": [
    "pd.DataFrame(train_labels_2).to_csv(f'../DataBarCrawl/fft_data/y_2_train.csv',index=False)\n",
    "pd.DataFrame(train_labels_5).to_csv(f'../DataBarCrawl/fft_data/y_5_train.csv',index=False)\n",
    "pd.DataFrame(train_labels_10).to_csv(f'../DataBarCrawl/fft_data/y_10_train.csv',index=False)\n"
   ]
  },
  {
   "cell_type": "code",
   "execution_count": null,
   "metadata": {},
   "outputs": [],
   "source": []
  }
 ],
 "metadata": {
  "interpreter": {
   "hash": "a93b75c99da6173ae8aadbe87472d3aa21158474846d7cf2fb502fd50e9bb3cc"
  },
  "kernelspec": {
   "display_name": "Python 3",
   "language": "python",
   "name": "python3"
  },
  "language_info": {
   "codemirror_mode": {
    "name": "ipython",
    "version": 3
   },
   "file_extension": ".py",
   "mimetype": "text/x-python",
   "name": "python",
   "nbconvert_exporter": "python",
   "pygments_lexer": "ipython3",
   "version": "3.7.6"
  }
 },
 "nbformat": 4,
 "nbformat_minor": 2
}
